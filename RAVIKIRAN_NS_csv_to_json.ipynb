{
 "cells": [
  {
   "cell_type": "code",
   "execution_count": 1,
   "metadata": {},
   "outputs": [
    {
     "name": "stdout",
     "output_type": "stream",
     "text": [
      "JSON file 'resultant.json' has been generated.\n"
     ]
    }
   ],
   "source": [
    "import pandas as pd\n",
    "import json\n",
    "\n",
    "# First we need to read the source CSV file into a DataFrame\n",
    "df = pd.read_csv(r\"source.csv\")\n",
    "\n",
    "# So now we can create an empty list to store the destination data\n",
    "destination_data = []\n",
    "\n",
    "# Secondly define a function to determine the fileType based on fileUUID\n",
    "def get_file_type(file_uuid):\n",
    "    if file_uuid.endswith('.png'):\n",
    "        return 'cine'\n",
    "    else:\n",
    "        return None\n",
    "\n",
    "# After 2nd step Iterate through each row in the DataFrame\n",
    "for index, row in df.iterrows():\n",
    "    # Split the 'filepaths' column into individual components\n",
    "    filepaths = row['filepaths'].split('/')\n",
    "\n",
    "    #We should extract the relevant components\n",
    "    fileUUID = filepaths[-1]\n",
    "    visit = filepaths[-2]\n",
    "    person = filepaths[-3]\n",
    "    container = filepaths[-4]\n",
    "    filepathss = filepaths[-5]\n",
    "\n",
    "    # Determine the fileType\n",
    "    fileType = get_file_type(fileUUID)\n",
    "\n",
    "    # Create a dictionary for the current row\n",
    "    data = {\n",
    "        'filepaths': filepathss,\n",
    "        'container': container,\n",
    "        'person': person,\n",
    "        'visit': visit,\n",
    "        'fileUUID': fileUUID,\n",
    "        'fileType': fileType\n",
    "    }\n",
    "\n",
    "    # Append the dictionary to the destination_data list\n",
    "    destination_data.append(data)\n",
    "\n",
    "# Save the destination_data as a JSON file\n",
    "with open('resultant.json', 'w') as json_file:\n",
    "    json.dump(destination_data, json_file, indent=4)\n",
    "\n",
    "# This print() is just there to verify all the above lines have successfully executed.\n",
    "print(\"JSON file 'resultant.json' has been generated.\")\n"
   ]
  }
 ],
 "metadata": {
  "kernelspec": {
   "display_name": "Python 3",
   "language": "python",
   "name": "python3"
  },
  "language_info": {
   "codemirror_mode": {
    "name": "ipython",
    "version": 3
   },
   "file_extension": ".py",
   "mimetype": "text/x-python",
   "name": "python",
   "nbconvert_exporter": "python",
   "pygments_lexer": "ipython3",
   "version": "3.8.10"
  },
  "orig_nbformat": 4
 },
 "nbformat": 4,
 "nbformat_minor": 2
}
