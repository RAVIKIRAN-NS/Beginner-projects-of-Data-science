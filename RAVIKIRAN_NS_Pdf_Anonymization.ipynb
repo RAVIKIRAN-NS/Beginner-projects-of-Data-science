{
 "cells": [
  {
   "cell_type": "code",
   "execution_count": null,
   "metadata": {},
   "outputs": [],
   "source": []
  },
  {
   "cell_type": "code",
   "execution_count": 1,
   "metadata": {},
   "outputs": [
    {
     "name": "stdout",
     "output_type": "stream",
     "text": [
      "PDF anonymization complete.\n"
     ]
    }
   ],
   "source": [
    "from PyPDF2 import PdfReader\n",
    "import os\n",
    "import re\n",
    "import fitz  # PyMuPDF\n",
    "\n",
    "pdf_directory = r\"E:\\RAVIKIRAN_NS_Data_engineering\\RAVIKIRAN_NS_RC3\\PDFs\"\n",
    "mod_dir = r\"E:\\RAVIKIRAN_NS_Data_engineering\\RAVIKIRAN_NS_RC3\\RAVIKIRAN_NS_Modified_PDF\"\n",
    "# List of anonymized PDF files in the directory\n",
    "pdf_files = [file for file in os.listdir(pdf_directory) if file.endswith(\".pdf\")]\n",
    "# Path to the input PDF file\n",
    "#input_pdf_path = r\"E:\\RAVIKIRAN_NS_Data_engineering\\RAVIKIRAN_NS_RC3\\PDFs\\patient_10785.pdf\"\n",
    "\n",
    "# Path to save the anonymized PDF\n",
    "#output_pdf_path = r\"E:\\RAVIKIRAN_NS_Data_engineering\\RAVIKIRAN_NS_RC3\\PDFs\\patient_10785_modified.pdf\"\n",
    "\n",
    "# Fields to anonymize (remove)\n",
    "fields_to_anonymize = [\n",
    "    \"Origin Hospital\"    \n",
    "]\n",
    "\n",
    "# Function to anonymize PDF by redacting specific fields\n",
    "def anonymize_pdf(input_path, output_path, fields_to_anonymize):\n",
    "    pdf_document = fitz.open(input_path)\n",
    "    \n",
    "    for page_num in range(len(pdf_document)):\n",
    "        page = pdf_document[page_num]\n",
    "        reader = PdfReader(input_path)\n",
    "        page1 = reader.pages[0]\n",
    "        text = page1.extract_text()\n",
    "        #print(text)\n",
    "        #print(text.find(\"zu\"))\n",
    "        fieldsjj=text[46:52]\n",
    "        fields_to_anonymize.append(fieldsjj)\n",
    "        fieldsjj=text[181:195]\n",
    "        fields_to_anonymize.append(fieldsjj)\n",
    "        #print(fieldsjj)\n",
    "        #print(fields_to_anonymize)\n",
    "        for field in fields_to_anonymize:\n",
    "            \n",
    "            text_instances = page.search_for(field)\n",
    "            \n",
    "            for inst in text_instances:\n",
    "                # Create a redaction annotation (black rectangle) over the text\n",
    "                \n",
    "                page.add_redact_annot(inst)\n",
    "                page.apply_redactions()\n",
    "        \n",
    "\n",
    "    # Save the changes back to the input PDF\n",
    "    pdf_document.save(output_path)\n",
    "    pdf_document.close()\n",
    "    #fields_to_anonymize = fields_to_anonymize[:-1]\n",
    "    #fields_to_anonymize = fields_to_anonymize[:-1]\n",
    "\n",
    "# Anonymize the PDF in-place\n",
    "for file in pdf_files:\n",
    "    pdf_path = os.path.join(pdf_directory, file)\n",
    "    op_pdf_path = os.path.join(mod_dir, file)\n",
    "    anonymize_pdf(pdf_path, op_pdf_path, fields_to_anonymize)\n",
    "#anonymize_pdf(input_pdf_path, output_pdf_path, fields_to_anonymize)\n",
    "\n",
    "print(\"PDF anonymization complete.\")"
   ]
  }
 ],
 "metadata": {
  "kernelspec": {
   "display_name": "Python 3",
   "language": "python",
   "name": "python3"
  },
  "language_info": {
   "codemirror_mode": {
    "name": "ipython",
    "version": 3
   },
   "file_extension": ".py",
   "mimetype": "text/x-python",
   "name": "python",
   "nbconvert_exporter": "python",
   "pygments_lexer": "ipython3",
   "version": "3.8.10"
  },
  "orig_nbformat": 4
 },
 "nbformat": 4,
 "nbformat_minor": 2
}
