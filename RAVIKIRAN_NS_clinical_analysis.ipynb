{
 "cells": [
  {
   "cell_type": "code",
   "execution_count": 2,
   "metadata": {},
   "outputs": [
    {
     "name": "stdout",
     "output_type": "stream",
     "text": [
      "Number of normal cases: 35\n",
      "Number of abnormal cases: 15\n"
     ]
    }
   ],
   "source": [
    "from PyPDF2 import PdfReader\n",
    "import os\n",
    "import re\n",
    "  \n",
    "# creating a pdf reader object\n",
    "pdf_directory = r\"E:\\RAVIKIRAN_NS_Data_engineering\\RAVIKIRAN_NS_RC3\\RAVIKIRAN_NS_Modified_PDF\"\n",
    "\n",
    "# List of anonymized PDF files in the directory\n",
    "pdf_files = [file for file in os.listdir(pdf_directory) if file.endswith(\".pdf\")]\n",
    "#print(pdf_files)\n",
    "abnormal_keywords = [\"ventriculomegaly\", \"Spina bifida found\", \"ectopic foci\", \"posterior fossa cyst\", \n",
    "                      \"mega cisterna magna\", \"absent nasal bone\"]\n",
    "normal_count = 0\n",
    "abnormal_count = 0\n",
    "\n",
    "def has_abnormal_keywords(text):\n",
    "    for keyword in abnormal_keywords:\n",
    "        if re.search(r'\\b' + keyword + r'\\b', text, re.IGNORECASE):\n",
    "            return True\n",
    "    return False\n",
    "\n",
    "for file in pdf_files:\n",
    "    pdf_path = os.path.join(pdf_directory, file)\n",
    "    reader = PdfReader(pdf_path)\n",
    "    page = reader.pages[0]\n",
    "    text = page.extract_text()\n",
    "    if has_abnormal_keywords(text):\n",
    "        abnormal_count += 1\n",
    "    else:\n",
    "        normal_count += 1\n",
    "\n",
    "print(f\"Number of normal cases: {normal_count}\")\n",
    "print(f\"Number of abnormal cases: {abnormal_count}\")\n"
   ]
  }
 ],
 "metadata": {
  "kernelspec": {
   "display_name": "Python 3",
   "language": "python",
   "name": "python3"
  },
  "language_info": {
   "codemirror_mode": {
    "name": "ipython",
    "version": 3
   },
   "file_extension": ".py",
   "mimetype": "text/x-python",
   "name": "python",
   "nbconvert_exporter": "python",
   "pygments_lexer": "ipython3",
   "version": "3.8.10"
  },
  "orig_nbformat": 4
 },
 "nbformat": 4,
 "nbformat_minor": 2
}
